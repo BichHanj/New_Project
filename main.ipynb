{
 "cells": [
  {
   "cell_type": "code",
   "execution_count": 31,
   "metadata": {},
   "outputs": [
    {
     "name": "stdout",
     "output_type": "stream",
     "text": [
      "Running on local URL:  http://127.0.0.1:7864\n",
      "\n",
      "To create a public link, set `share=True` in `launch()`.\n"
     ]
    },
    {
     "data": {
      "text/html": [
       "<div><iframe src=\"http://127.0.0.1:7864/\" width=\"100%\" height=\"500\" allow=\"autoplay; camera; microphone; clipboard-read; clipboard-write;\" frameborder=\"0\" allowfullscreen></iframe></div>"
      ],
      "text/plain": [
       "<IPython.core.display.HTML object>"
      ]
     },
     "metadata": {},
     "output_type": "display_data"
    },
    {
     "data": {
      "text/plain": []
     },
     "execution_count": 31,
     "metadata": {},
     "output_type": "execute_result"
    }
   ],
   "source": [
    "import gradio as gr\n",
    "import pandas as pd\n",
    "\n",
    "# Hàm get_data mẫu\n",
    "def get_data(input_text):\n",
    "    # Xử lý dữ liệu tùy thuộc vào input_text\n",
    "    # ...\n",
    "\n",
    "    # Trả về một DataFrame với các cột tùy chọn\n",
    "    custom_columns = ['column1', 'column2']  # Thay thế bằng tên các cột bạn muốn\n",
    "    data = {'column1': ['value1', 'value2'],\n",
    "            'column2': ['value3', 'value4']}  # Thay thế bằng dữ liệu thực tế\n",
    "\n",
    "    return pd.DataFrame(data, columns=custom_columns)\n",
    "\n",
    "# Tạo Gradio Interface\n",
    "iface = gr.Interface(\n",
    "    fn=get_data,\n",
    "    inputs=gr.Textbox(),\n",
    "    outputs=gr.Dataframe()  # Chú ý: Dataframe, không phải Dataframe()\n",
    ")\n",
    "\n",
    "# Chạy Gradio Interface\n",
    "iface.launch()"
   ]
  },
  {
   "cell_type": "code",
   "execution_count": null,
   "metadata": {},
   "outputs": [],
   "source": []
  }
 ],
 "metadata": {
  "kernelspec": {
   "display_name": "base",
   "language": "python",
   "name": "python3"
  },
  "language_info": {
   "codemirror_mode": {
    "name": "ipython",
    "version": 3
   },
   "file_extension": ".py",
   "mimetype": "text/x-python",
   "name": "python",
   "nbconvert_exporter": "python",
   "pygments_lexer": "ipython3",
   "version": "3.10.9"
  }
 },
 "nbformat": 4,
 "nbformat_minor": 2
}
