{
 "cells": [
  {
   "cell_type": "code",
   "execution_count": 2,
   "metadata": {},
   "outputs": [
    {
     "name": "stdout",
     "output_type": "stream",
     "text": [
      "Running on local URL:  http://127.0.0.1:7861\n",
      "Running on public URL: https://5818aca3bc9282a6b7.gradio.live\n",
      "\n",
      "This share link expires in 72 hours. For free permanent hosting and GPU upgrades, run `gradio deploy` from Terminal to deploy to Spaces (https://huggingface.co/spaces)\n"
     ]
    },
    {
     "data": {
      "text/html": [
       "<div><iframe src=\"https://5818aca3bc9282a6b7.gradio.live\" width=\"100%\" height=\"500\" allow=\"autoplay; camera; microphone; clipboard-read; clipboard-write;\" frameborder=\"0\" allowfullscreen></iframe></div>"
      ],
      "text/plain": [
       "<IPython.core.display.HTML object>"
      ]
     },
     "metadata": {},
     "output_type": "display_data"
    },
    {
     "data": {
      "text/plain": []
     },
     "execution_count": 2,
     "metadata": {},
     "output_type": "execute_result"
    }
   ],
   "source": [
    "import gradio as gr\n",
    "import pandas as pd\n",
    "import gradio_client as Client\n",
    "import requests\n",
    " \n",
    "\n",
    " \n",
    "# Hàm xử lý khi có sự kiện thay đổi trên ô input\n",
    "def get_data(input):\n",
    "    # Gọi hàm để lấy dữ liệu từ API\n",
    "    data = call_api(input)\n",
    "    if data:\n",
    "        # Chuyển đổi dữ liệu thành DataFrame Pandas để hiển thị dưới dạng bảng\n",
    "        df = pd.DataFrame(data)\n",
    "        return df\n",
    "    else:\n",
    "        return None\n",
    " \n",
    "# Tạo Gradio Interface\n",
    "iface = gr.Interface(\n",
    "    fn=get_data,\n",
    "    inputs=gr.Textbox(),\n",
    "    outputs=gr.DataFrame()\n",
    ")\n",
    " \n",
    "# Chạy Gradio Interface\n",
    "iface.launch(share = True)"
   ]
  },
  {
   "cell_type": "code",
   "execution_count": 5,
   "metadata": {},
   "outputs": [],
   "source": [
    "import os\n",
    "\n",
    "# Tạo một thư mục có tên là 'My_app'\n",
    "os.mkdir('My_app')\n",
    "\n"
   ]
  },
  {
   "cell_type": "code",
   "execution_count": 27,
   "metadata": {},
   "outputs": [
    {
     "name": "stdout",
     "output_type": "stream",
     "text": [
      "C:\\Users\\DELL\\src\n"
     ]
    },
    {
     "name": "stderr",
     "output_type": "stream",
     "text": [
      "A subdirectory or file src already exists.\n"
     ]
    },
    {
     "name": "stdout",
     "output_type": "stream",
     "text": [
      "C:\\Users\\DELL\n"
     ]
    },
    {
     "name": "stderr",
     "output_type": "stream",
     "text": [
      "A subdirectory or file assets already exists.\n",
      "Error occurred while processing: assets.\n",
      "A subdirectory or file common already exists.\n",
      "Error occurred while processing: common.\n",
      "A subdirectory or file constants already exists.\n",
      "Error occurred while processing: constants.\n",
      "A subdirectory or file model already exists.\n",
      "Error occurred while processing: model.\n",
      "A subdirectory or file views already exists.\n",
      "Error occurred while processing: views.\n",
      "A subdirectory or file services already exists.\n",
      "Error occurred while processing: services.\n"
     ]
    }
   ],
   "source": [
    "!mkdir src\n",
    "%cd src\n",
    "# Tạo các thư mục con\n",
    "!mkdir assets common constants model views services\n",
    "\n",
    "# Tạo tệp tin trống '__init__.py' trong thư mục 'common'\n",
    "with open('common/__init__.py', 'w') as file:\n",
    "    pass\n",
    "with open('constants/__init__.py', 'w') as file:\n",
    "    pass\n",
    "with open('model/__init__.py', 'w') as file:\n",
    "    pass\n",
    "with open('views/__init__.py', 'w') as file:\n",
    "    pass\n",
    "with open('services/__init__.py', 'w') as file:\n",
    "    pass\n",
    "# Tạo các tệp mẫu trong common và constants\n",
    "with open('common/utils.py', 'w') as file:\n",
    "    file.write(\"# utils.py\\n\")\n",
    "with open('constants/config.py', 'w') as file:\n",
    "    file.write(\"# config.py\\n\")\n",
    "%cd\n",
    "# Tạo tệp main.py\n",
    "with open('main.py', 'w') as file:\n",
    "    file.write(\"# main.py\\n\")\n",
    "with open('.gitignore', 'w') as file:\n",
    "    file.write(\"# .gitignore\\n\")\n",
    "with open('requirements.txt', 'w') as file:\n",
    "    file.write(\"# requirements.txt\\n\")\n"
   ]
  },
  {
   "cell_type": "code",
   "execution_count": null,
   "metadata": {},
   "outputs": [],
   "source": []
  }
 ],
 "metadata": {
  "kernelspec": {
   "display_name": "base",
   "language": "python",
   "name": "python3"
  },
  "language_info": {
   "codemirror_mode": {
    "name": "ipython",
    "version": 3
   },
   "file_extension": ".py",
   "mimetype": "text/x-python",
   "name": "python",
   "nbconvert_exporter": "python",
   "pygments_lexer": "ipython3",
   "version": "3.10.9"
  }
 },
 "nbformat": 4,
 "nbformat_minor": 2
}
