{
 "cells": [
  {
   "cell_type": "code",
   "execution_count": 30,
   "metadata": {},
   "outputs": [
    {
     "name": "stdout",
     "output_type": "stream",
     "text": [
      "Running on local URL:  http://127.0.0.1:7863\n",
      "\n",
      "To create a public link, set `share=True` in `launch()`.\n"
     ]
    },
    {
     "data": {
      "text/html": [
       "<div><iframe src=\"http://127.0.0.1:7863/\" width=\"100%\" height=\"500\" allow=\"autoplay; camera; microphone; clipboard-read; clipboard-write;\" frameborder=\"0\" allowfullscreen></iframe></div>"
      ],
      "text/plain": [
       "<IPython.core.display.HTML object>"
      ]
     },
     "metadata": {},
     "output_type": "display_data"
    },
    {
     "data": {
      "text/plain": []
     },
     "execution_count": 30,
     "metadata": {},
     "output_type": "execute_result"
    }
   ],
   "source": [
    "import gradio as gr\n",
    "\n",
    "# Hàm get_data mẫu\n",
    "def get_data(input_text):\n",
    "    # Xử lý dữ liệu tùy thuộc vào input_text\n",
    "    # ...\n",
    "\n",
    "    # Trả về một DataFrame\n",
    "    return pd.DataFrame({'column_name': ['value1', 'value2']})\n",
    "\n",
    "# Tạo Gradio Interface\n",
    "iface = gr.Interface(\n",
    "    fn=get_data,\n",
    "    inputs=gr.Textbox(),\n",
    "    outputs=gr.Dataframe()  # Chú ý: Dataframe, không phải Dataframe()\n",
    ")\n",
    "\n",
    "# Chạy Gradio Interface\n",
    "iface.launch()"
   ]
  },
  {
   "cell_type": "code",
   "execution_count": 5,
   "metadata": {},
   "outputs": [],
   "source": [
    "import os\n",
    "\n",
    "# Tạo một thư mục có tên là 'My_app'\n",
    "os.mkdir('My_app')\n",
    "\n"
   ]
  },
  {
   "cell_type": "code",
   "execution_count": 27,
   "metadata": {},
   "outputs": [
    {
     "name": "stdout",
     "output_type": "stream",
     "text": [
      "C:\\Users\\DELL\\src\n"
     ]
    },
    {
     "name": "stderr",
     "output_type": "stream",
     "text": [
      "A subdirectory or file src already exists.\n"
     ]
    },
    {
     "name": "stdout",
     "output_type": "stream",
     "text": [
      "C:\\Users\\DELL\n"
     ]
    },
    {
     "name": "stderr",
     "output_type": "stream",
     "text": [
      "A subdirectory or file assets already exists.\n",
      "Error occurred while processing: assets.\n",
      "A subdirectory or file common already exists.\n",
      "Error occurred while processing: common.\n",
      "A subdirectory or file constants already exists.\n",
      "Error occurred while processing: constants.\n",
      "A subdirectory or file model already exists.\n",
      "Error occurred while processing: model.\n",
      "A subdirectory or file views already exists.\n",
      "Error occurred while processing: views.\n",
      "A subdirectory or file services already exists.\n",
      "Error occurred while processing: services.\n"
     ]
    },
    {
     "name": "stderr",
     "output_type": "stream",
     "text": [
      "Traceback (most recent call last):\n",
      "  File \"c:\\Users\\DELL\\anaconda3\\lib\\site-packages\\gradio\\queueing.py\", line 495, in call_prediction\n",
      "    output = await route_utils.call_process_api(\n",
      "  File \"c:\\Users\\DELL\\anaconda3\\lib\\site-packages\\gradio\\route_utils.py\", line 232, in call_process_api\n",
      "    output = await app.get_blocks().process_api(\n",
      "  File \"c:\\Users\\DELL\\anaconda3\\lib\\site-packages\\gradio\\blocks.py\", line 1561, in process_api\n",
      "    result = await self.call_function(\n",
      "  File \"c:\\Users\\DELL\\anaconda3\\lib\\site-packages\\gradio\\blocks.py\", line 1179, in call_function\n",
      "    prediction = await anyio.to_thread.run_sync(\n",
      "  File \"c:\\Users\\DELL\\anaconda3\\lib\\site-packages\\anyio\\to_thread.py\", line 28, in run_sync\n",
      "    return await get_asynclib().run_sync_in_worker_thread(func, *args, cancellable=cancellable,\n",
      "  File \"c:\\Users\\DELL\\anaconda3\\lib\\site-packages\\anyio\\_backends\\_asyncio.py\", line 818, in run_sync_in_worker_thread\n",
      "    return await future\n",
      "  File \"c:\\Users\\DELL\\anaconda3\\lib\\site-packages\\anyio\\_backends\\_asyncio.py\", line 754, in run\n",
      "    result = context.run(func, *args)\n",
      "  File \"c:\\Users\\DELL\\anaconda3\\lib\\site-packages\\gradio\\utils.py\", line 678, in wrapper\n",
      "    response = f(*args, **kwargs)\n",
      "  File \"C:\\Users\\DELL\\AppData\\Local\\Temp\\ipykernel_2800\\3332000696.py\", line 11, in get_data\n",
      "    data = call_api(input)\n",
      "NameError: name 'call_api' is not defined\n"
     ]
    }
   ],
   "source": [
    "!mkdir src\n",
    "%cd src\n",
    "# Tạo các thư mục con\n",
    "!mkdir assets common constants model views services\n",
    "\n",
    "# Tạo tệp tin trống '__init__.py' trong thư mục 'common'\n",
    "with open('common/__init__.py', 'w') as file:\n",
    "    pass\n",
    "with open('constants/__init__.py', 'w') as file:\n",
    "    pass\n",
    "with open('model/__init__.py', 'w') as file:\n",
    "    pass\n",
    "with open('views/__init__.py', 'w') as file:\n",
    "    pass\n",
    "with open('services/__init__.py', 'w') as file:\n",
    "    pass\n",
    "# Tạo các tệp mẫu trong common và constants\n",
    "with open('common/utils.py', 'w') as file:\n",
    "    file.write(\"# utils.py\\n\")\n",
    "with open('constants/config.py', 'w') as file:\n",
    "    file.write(\"# config.py\\n\")\n",
    "%cd\n",
    "# Tạo tệp main.py\n",
    "with open('main.py', 'w') as file:\n",
    "    file.write(\"# main.py\\n\")\n",
    "with open('.gitignore', 'w') as file:\n",
    "    file.write(\"# .gitignore\\n\")\n",
    "with open('requirements.txt', 'w') as file:\n",
    "    file.write(\"# requirements.txt\\n\")\n"
   ]
  },
  {
   "cell_type": "code",
   "execution_count": null,
   "metadata": {},
   "outputs": [],
   "source": []
  }
 ],
 "metadata": {
  "kernelspec": {
   "display_name": "base",
   "language": "python",
   "name": "python3"
  },
  "language_info": {
   "codemirror_mode": {
    "name": "ipython",
    "version": 3
   },
   "file_extension": ".py",
   "mimetype": "text/x-python",
   "name": "python",
   "nbconvert_exporter": "python",
   "pygments_lexer": "ipython3",
   "version": "3.10.9"
  }
 },
 "nbformat": 4,
 "nbformat_minor": 2
}
